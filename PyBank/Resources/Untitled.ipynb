{
 "cells": [
  {
   "cell_type": "code",
   "execution_count": 8,
   "id": "f68def8b-8eaa-4ffe-8750-7adf3d084774",
   "metadata": {},
   "outputs": [],
   "source": [
    "import pandas as pd"
   ]
  },
  {
   "cell_type": "code",
   "execution_count": 9,
   "id": "6ef3f817-ddb5-4a87-8033-7786be843d81",
   "metadata": {},
   "outputs": [
    {
     "ename": "NameError",
     "evalue": "name 'Path' is not defined",
     "output_type": "error",
     "traceback": [
      "\u001b[1;31m---------------------------------------------------------------------------\u001b[0m",
      "\u001b[1;31mNameError\u001b[0m                                 Traceback (most recent call last)",
      "Cell \u001b[1;32mIn[9], line 1\u001b[0m\n\u001b[1;32m----> 1\u001b[0m data_file \u001b[38;5;241m=\u001b[39m \u001b[43mPath\u001b[49m(\u001b[38;5;124m\"\u001b[39m\u001b[38;5;124mPyBank/Resources/budget_data.csv\u001b[39m\u001b[38;5;124m\"\u001b[39m)\n",
      "\u001b[1;31mNameError\u001b[0m: name 'Path' is not defined"
     ]
    }
   ],
   "source": [
    "data_file = Path(\"PyBank/Resources/budget_data.csv\")"
   ]
  },
  {
   "cell_type": "code",
   "execution_count": null,
   "id": "c1530486-b566-4611-80a5-578de8f63506",
   "metadata": {},
   "outputs": [],
   "source": [
    "data_file_df = pd.read_csv(\"budget_data.csv\")"
   ]
  },
  {
   "cell_type": "code",
   "execution_count": null,
   "id": "ae67b88e-2c07-42d2-9981-1bb90c2ccf1b",
   "metadata": {},
   "outputs": [],
   "source": [
    "total_months = data_file_df[\"Date\"].count()\n",
    "print(f\"Total Months: {total_months}\")"
   ]
  },
  {
   "cell_type": "code",
   "execution_count": null,
   "id": "a056f418-8de8-4666-93f3-a2a943259627",
   "metadata": {},
   "outputs": [],
   "source": [
    "total_profit_loss = data_file_df[\"Profit/Losses\"].sum()\n",
    "print(f\"Total: ${total_profit_loss}\")"
   ]
  },
  {
   "cell_type": "code",
   "execution_count": null,
   "id": "7a2fe6c3-c663-4c53-9f7a-d5ba8eecff40",
   "metadata": {},
   "outputs": [],
   "source": [
    "changes = data_file_df[\"Profit/Losses\"].diff()\n",
    "average_change = changes.mean()\n",
    "print(f\"Average Change: ${average_change:.2f}\")"
   ]
  },
  {
   "cell_type": "code",
   "execution_count": 7,
   "id": "68c46952-068f-406f-b7b4-21f589caca62",
   "metadata": {},
   "outputs": [
    {
     "ename": "NameError",
     "evalue": "name 'data_file_df' is not defined",
     "output_type": "error",
     "traceback": [
      "\u001b[1;31m---------------------------------------------------------------------------\u001b[0m",
      "\u001b[1;31mNameError\u001b[0m                                 Traceback (most recent call last)",
      "Cell \u001b[1;32mIn[7], line 1\u001b[0m\n\u001b[1;32m----> 1\u001b[0m greatest_increase \u001b[38;5;241m=\u001b[39m \u001b[43mdata_file_df\u001b[49m\u001b[38;5;241m.\u001b[39mloc[data[\u001b[38;5;124m'\u001b[39m\u001b[38;5;124mChange\u001b[39m\u001b[38;5;124m'\u001b[39m]\u001b[38;5;241m.\u001b[39midxmax()]\n",
      "\u001b[1;31mNameError\u001b[0m: name 'data_file_df' is not defined"
     ]
    }
   ],
   "source": [
    "greatest_increase = data_file_df.loc[data['Change'].idxmax()]"
   ]
  },
  {
   "cell_type": "code",
   "execution_count": null,
   "id": "16c6b25b-8043-4930-911e-1dd6592ee8ce",
   "metadata": {},
   "outputs": [],
   "source": []
  }
 ],
 "metadata": {
  "kernelspec": {
   "display_name": "Python 3 (ipykernel)",
   "language": "python",
   "name": "python3"
  },
  "language_info": {
   "codemirror_mode": {
    "name": "ipython",
    "version": 3
   },
   "file_extension": ".py",
   "mimetype": "text/x-python",
   "name": "python",
   "nbconvert_exporter": "python",
   "pygments_lexer": "ipython3",
   "version": "3.10.14"
  }
 },
 "nbformat": 4,
 "nbformat_minor": 5
}
